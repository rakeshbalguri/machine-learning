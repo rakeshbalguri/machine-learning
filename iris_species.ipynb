{
 "cells": [
  {
   "cell_type": "markdown",
   "metadata": {},
   "source": [
    "###This is a Classification problem solved using the K-Nearest Classifier\n"
   ]
  },
  {
   "cell_type": "code",
   "execution_count": 36,
   "metadata": {},
   "outputs": [],
   "source": [
    "from sklearn.datasets import load_iris\n",
    "from sklearn.model_selection import train_test_split\n",
    "import pandas as pd\n",
    "import numpy as np\n",
    "from sklearn.neighbors import KNeighborsClassifier"
   ]
  },
  {
   "cell_type": "code",
   "execution_count": 5,
   "metadata": {},
   "outputs": [],
   "source": [
    "# Load the data set\n",
    "iris_dataset = load_iris()\n"
   ]
  },
  {
   "cell_type": "code",
   "execution_count": 8,
   "metadata": {},
   "outputs": [
    {
     "name": "stdout",
     "output_type": "stream",
     "text": [
      "Keys of iris_dataset: \n",
      "dict_keys(['data', 'target', 'target_names', 'DESCR', 'feature_names'])\n"
     ]
    }
   ],
   "source": [
    "print(\"Keys of iris_dataset: \\n{}\".format(iris_dataset.keys()))"
   ]
  },
  {
   "cell_type": "code",
   "execution_count": 11,
   "metadata": {},
   "outputs": [
    {
     "name": "stdout",
     "output_type": "stream",
     "text": [
      "['sepal length (cm)', 'sepal width (cm)', 'petal length (cm)', 'petal width (cm)']\n"
     ]
    }
   ],
   "source": [
    "print(iris_dataset['feature_names'])"
   ]
  },
  {
   "cell_type": "code",
   "execution_count": 9,
   "metadata": {},
   "outputs": [
    {
     "name": "stdout",
     "output_type": "stream",
     "text": [
      "Iris Plants Database\n",
      "====================\n",
      "\n",
      "Notes\n",
      "-----\n",
      "Data Set Characteristics:\n",
      "    :Number of Instances: 150 (50 in each of three classes)\n",
      "    :Number of Attributes: 4 numeric, predictive att\n",
      "...\n"
     ]
    }
   ],
   "source": [
    "print(iris_dataset['DESCR'][:193] + \"\\n...\")"
   ]
  },
  {
   "cell_type": "code",
   "execution_count": 12,
   "metadata": {},
   "outputs": [
    {
     "name": "stdout",
     "output_type": "stream",
     "text": [
      "['setosa' 'versicolor' 'virginica']\n"
     ]
    }
   ],
   "source": [
    "print(iris_dataset['target_names'])"
   ]
  },
  {
   "cell_type": "code",
   "execution_count": 13,
   "metadata": {},
   "outputs": [
    {
     "name": "stdout",
     "output_type": "stream",
     "text": [
      "Shape of data: (150, 4)\n"
     ]
    }
   ],
   "source": [
    "print(\"Shape of data: {}\".format(iris_dataset['data'].shape))"
   ]
  },
  {
   "cell_type": "code",
   "execution_count": 16,
   "metadata": {},
   "outputs": [
    {
     "name": "stdout",
     "output_type": "stream",
     "text": [
      "First five columns of data:\n",
      "[[5.1 3.5 1.4 0.2]\n",
      " [4.9 3.  1.4 0.2]\n",
      " [4.7 3.2 1.3 0.2]\n",
      " [4.6 3.1 1.5 0.2]\n",
      " [5.  3.6 1.4 0.2]]\n"
     ]
    }
   ],
   "source": [
    "print(\"First five columns of data:\\n{}\".format(iris_dataset['data'][:5]))"
   ]
  },
  {
   "cell_type": "code",
   "execution_count": 19,
   "metadata": {},
   "outputs": [],
   "source": [
    "X_train, X_test, y_train, y_test = train_test_split(iris_dataset['data'], iris_dataset['target'], random_state=0)"
   ]
  },
  {
   "cell_type": "code",
   "execution_count": 25,
   "metadata": {},
   "outputs": [
    {
     "name": "stdout",
     "output_type": "stream",
     "text": [
      "[2 1 0 2 0 2 0 1 1 1 2 1 1 1 1 0 1 1 0 0 2 1 0 0 2 0 0 1 1 0 2 1 0 2 2 1 0\n",
      " 1]\n"
     ]
    }
   ],
   "source": [
    "print(y_test) "
   ]
  },
  {
   "cell_type": "code",
   "execution_count": 29,
   "metadata": {},
   "outputs": [
    {
     "name": "stdout",
     "output_type": "stream",
     "text": [
      "     sepal length (cm)  sepal width (cm)  petal length (cm)  petal width (cm)\n",
      "0                  5.9               3.0                4.2               1.5\n",
      "1                  5.8               2.6                4.0               1.2\n",
      "2                  6.8               3.0                5.5               2.1\n",
      "3                  4.7               3.2                1.3               0.2\n",
      "4                  6.9               3.1                5.1               2.3\n",
      "5                  5.0               3.5                1.6               0.6\n",
      "6                  5.4               3.7                1.5               0.2\n",
      "7                  5.0               2.0                3.5               1.0\n",
      "8                  6.5               3.0                5.5               1.8\n",
      "9                  6.7               3.3                5.7               2.5\n",
      "10                 6.0               2.2                5.0               1.5\n",
      "11                 6.7               2.5                5.8               1.8\n",
      "12                 5.6               2.5                3.9               1.1\n",
      "13                 7.7               3.0                6.1               2.3\n",
      "14                 6.3               3.3                4.7               1.6\n",
      "15                 5.5               2.4                3.8               1.1\n",
      "16                 6.3               2.7                4.9               1.8\n",
      "17                 6.3               2.8                5.1               1.5\n",
      "18                 4.9               2.5                4.5               1.7\n",
      "19                 6.3               2.5                5.0               1.9\n",
      "20                 7.0               3.2                4.7               1.4\n",
      "21                 6.5               3.0                5.2               2.0\n",
      "22                 6.0               3.4                4.5               1.6\n",
      "23                 4.8               3.1                1.6               0.2\n",
      "24                 5.8               2.7                5.1               1.9\n",
      "25                 5.6               2.7                4.2               1.3\n",
      "26                 5.6               2.9                3.6               1.3\n",
      "27                 5.5               2.5                4.0               1.3\n",
      "28                 6.1               3.0                4.6               1.4\n",
      "29                 7.2               3.2                6.0               1.8\n",
      "..                 ...               ...                ...               ...\n",
      "82                 5.8               4.0                1.2               0.2\n",
      "83                 7.7               2.8                6.7               2.0\n",
      "84                 5.1               3.8                1.5               0.3\n",
      "85                 4.7               3.2                1.6               0.2\n",
      "86                 7.4               2.8                6.1               1.9\n",
      "87                 5.0               3.3                1.4               0.2\n",
      "88                 6.3               3.4                5.6               2.4\n",
      "89                 5.7               2.8                4.1               1.3\n",
      "90                 5.8               2.7                3.9               1.2\n",
      "91                 5.7               2.6                3.5               1.0\n",
      "92                 6.4               3.2                5.3               2.3\n",
      "93                 6.7               3.0                5.2               2.3\n",
      "94                 6.3               2.5                4.9               1.5\n",
      "95                 6.7               3.0                5.0               1.7\n",
      "96                 5.0               3.0                1.6               0.2\n",
      "97                 5.5               2.4                3.7               1.0\n",
      "98                 6.7               3.1                5.6               2.4\n",
      "99                 5.8               2.7                5.1               1.9\n",
      "100                5.1               3.4                1.5               0.2\n",
      "101                6.6               2.9                4.6               1.3\n",
      "102                5.6               3.0                4.1               1.3\n",
      "103                5.9               3.2                4.8               1.8\n",
      "104                6.3               2.3                4.4               1.3\n",
      "105                5.5               3.5                1.3               0.2\n",
      "106                5.1               3.7                1.5               0.4\n",
      "107                4.9               3.1                1.5               0.1\n",
      "108                6.3               2.9                5.6               1.8\n",
      "109                5.8               2.7                4.1               1.0\n",
      "110                7.7               3.8                6.7               2.2\n",
      "111                4.6               3.2                1.4               0.2\n",
      "\n",
      "[112 rows x 4 columns]\n"
     ]
    }
   ],
   "source": [
    "iris_dataframe = pd.DataFrame(X_train, columns=iris_dataset.feature_names)\n",
    "print(iris_dataframe)"
   ]
  },
  {
   "cell_type": "code",
   "execution_count": 30,
   "metadata": {},
   "outputs": [
    {
     "name": "stderr",
     "output_type": "stream",
     "text": [
      "/home/nbuser/anaconda3_501/lib/python3.6/site-packages/ipykernel/__main__.py:2: FutureWarning: pandas.scatter_matrix is deprecated. Use pandas.plotting.scatter_matrix instead\n",
      "  from ipykernel import kernelapp as app\n",
      "/home/nbuser/anaconda3_501/lib/python3.6/site-packages/matplotlib/font_manager.py:281: UserWarning: Matplotlib is building the font cache using fc-list. This may take a moment.\n",
      "  'Matplotlib is building the font cache using fc-list. '\n"
     ]
    }
   ],
   "source": [
    "grr = pd.scatter_matrix(iris_dataframe, c=y_train, figsize=(15, 15), marker='o',\n",
    "hist_kwds={'bins': 20}, s=60, alpha=.8)"
   ]
  },
  {
   "cell_type": "code",
   "execution_count": 34,
   "metadata": {},
   "outputs": [
    {
     "data": {
      "text/plain": [
       "KNeighborsClassifier(algorithm='auto', leaf_size=30, metric='minkowski',\n",
       "           metric_params=None, n_jobs=1, n_neighbors=1, p=2,\n",
       "           weights='uniform')"
      ]
     },
     "execution_count": 34,
     "metadata": {},
     "output_type": "execute_result"
    }
   ],
   "source": [
    "knn = KNeighborsClassifier(n_neighbors=1)\n",
    "knn.fit(X_train, y_train)"
   ]
  },
  {
   "cell_type": "code",
   "execution_count": 41,
   "metadata": {},
   "outputs": [
    {
     "name": "stdout",
     "output_type": "stream",
     "text": [
      "[0]\n",
      "Predicted target name: ['setosa']\n"
     ]
    }
   ],
   "source": [
    "X_new = np.array([[5, 2.9, 1, 0.2]])\n",
    "prediction = knn.predict(X_new)\n",
    "print(prediction)\n",
    "print(\"Predicted target name: {}\".format(\n",
    "iris_dataset['target_names'][prediction]))"
   ]
  },
  {
   "cell_type": "code",
   "execution_count": 42,
   "metadata": {},
   "outputs": [
    {
     "name": "stdout",
     "output_type": "stream",
     "text": [
      "Test set predictions:\n",
      " [2 1 0 2 0 2 0 1 1 1 2 1 1 1 1 0 1 1 0 0 2 1 0 0 2 0 0 1 1 0 2 1 0 2 2 1 0\n",
      " 2]\n"
     ]
    }
   ],
   "source": [
    "y_pred = knn.predict(X_test)\n",
    "print(\"Test set predictions:\\n {}\".format(y_pred))"
   ]
  },
  {
   "cell_type": "code",
   "execution_count": 47,
   "metadata": {},
   "outputs": [
    {
     "name": "stdout",
     "output_type": "stream",
     "text": [
      "97.36842105263158\n"
     ]
    }
   ],
   "source": [
    "# Determine the accuracy of the model we built\n",
    "modelScore = knn.score(X_test, y_test)\n",
    "print(modelScore*100)"
   ]
  }
 ],
 "metadata": {
  "kernelspec": {
   "display_name": "Python 3.6",
   "language": "python",
   "name": "python36"
  },
  "language_info": {
   "codemirror_mode": {
    "name": "ipython",
    "version": 3
   },
   "file_extension": ".py",
   "mimetype": "text/x-python",
   "name": "python",
   "nbconvert_exporter": "python",
   "pygments_lexer": "ipython3",
   "version": "3.6.3"
  }
 },
 "nbformat": 4,
 "nbformat_minor": 2
}
